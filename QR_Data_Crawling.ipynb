{
 "cells": [
  {
   "cell_type": "code",
   "execution_count": 2,
   "metadata": {},
   "outputs": [],
   "source": [
    "import requests\n",
    "from bs4 import BeautifulSoup as bs\n"
   ]
  },
  {
   "cell_type": "code",
   "execution_count": 3,
   "metadata": {},
   "outputs": [
    {
     "name": "stderr",
     "output_type": "stream",
     "text": [
      "/Users/yjlee/miniforge3/envs/disney/lib/python3.8/site-packages/urllib3/connectionpool.py:1045: InsecureRequestWarning: Unverified HTTPS request is being made to host 'yujini0731.wixsite.com'. Adding certificate verification is strongly advised. See: https://urllib3.readthedocs.io/en/1.26.x/advanced-usage.html#ssl-warnings\n",
      "  warnings.warn(\n"
     ]
    },
    {
     "name": "stdout",
     "output_type": "stream",
     "text": [
      "​김노벨\n",
      "포시아나\n",
      "​싱가포르\n"
     ]
    }
   ],
   "source": [
    "\n",
    "res = requests.get('https://yujini0731.wixsite.com/on-air-port/data', verify=False)\n",
    "html = res.content\n",
    "soup = bs(html, 'html.parser')\n",
    "\n",
    "h1 = soup.select_one(\"h1\")\n",
    "print(h1.text)\n",
    "h2 = soup.select_one(\"h2\")\n",
    "print(h2.text)\n",
    "h3 = soup.select_one(\"h3\")\n",
    "print(h3.text)"
   ]
  },
  {
   "cell_type": "code",
   "execution_count": 4,
   "metadata": {},
   "outputs": [
    {
     "name": "stderr",
     "output_type": "stream",
     "text": [
      "/Users/yjlee/miniforge3/envs/disney/lib/python3.8/site-packages/urllib3/connectionpool.py:1045: InsecureRequestWarning: Unverified HTTPS request is being made to host 'search.naver.com'. Adding certificate verification is strongly advised. See: https://urllib3.readthedocs.io/en/1.26.x/advanced-usage.html#ssl-warnings\n",
      "  warnings.warn(\n"
     ]
    },
    {
     "name": "stdout",
     "output_type": "stream",
     "text": [
      "29\n"
     ]
    }
   ],
   "source": [
    "\n",
    "res = requests.get('https://search.naver.com/search.naver?where=nexearch&sm=top_hty&fbm=0&ie=utf8&query=%EC%8B%B1%EA%B0%80%ED%8F%AC%EB%A5%B4+%EB%82%A0%EC%94%A8', verify=False)\n",
    "html = res.content\n",
    "soup = bs(html, 'html.parser')\n",
    "\n",
    "\n",
    "degree =soup.select_one(\"p.info_temperature span\" )\n",
    "print(degree.text.strip())  #temperature\n"
   ]
  },
  {
   "cell_type": "code",
   "execution_count": 5,
   "metadata": {},
   "outputs": [
    {
     "name": "stdout",
     "output_type": "stream",
     "text": [
      "대체로 흐림, 체감온도 34℃\n"
     ]
    }
   ],
   "source": [
    "now = soup.select(\".info_list p\")[0]\n",
    "print(now.text.strip())"
   ]
  },
  {
   "cell_type": "code",
   "execution_count": 6,
   "metadata": {},
   "outputs": [
    {
     "name": "stdout",
     "output_type": "stream",
     "text": [
      "69\n"
     ]
    }
   ],
   "source": [
    "humidity = soup.select(\"em span.num\")[1]\n",
    "print(humidity.text.strip())\n"
   ]
  },
  {
   "cell_type": "code",
   "execution_count": 7,
   "metadata": {},
   "outputs": [
    {
     "name": "stdout",
     "output_type": "stream",
     "text": [
      "​김노벨님의 도착 예정 시간인 오후 9시 40분의 ​싱가포르는 29도이며 대체로 흐림, 체감온도 34℃ 일 예정입니다. 습도는 69% 이며 현재 우기인 지역이니 꼭 우산을 챙기시길 추천드려요. \n"
     ]
    }
   ],
   "source": [
    "print(f\"{h1.text}님의 도착 예정 시간인 오후 9시 40분의 {h3.text}는 {degree.text.strip()}도이며 {now.text.strip()} 일 예정입니다. 습도는 {humidity.text.strip()}% 이며 현재 우기인 지역이니 꼭 우산을 챙기시길 추천드려요. \")"
   ]
  },
  {
   "cell_type": "code",
   "execution_count": 9,
   "metadata": {},
   "outputs": [],
   "source": [
    "f = open('./crawling.txt', 'w')\n",
    "\n",
    "f.write(f\"{h1.text} 고객님 안녕하세요. 1시간 반 뒤 비행기로 {h3.text}에 가시는 군요!\")\n",
    "f.write(f\"현재 {h3.text}의 날씨는 {degree.text.strip()}도이며 {now.text.strip()} 도일 예정입니다. 습도는 {humidity.text.strip()}% 이며 현재 우기인 지역이니 우산을 챙기셨는지 꼭 확인해보세요!\")\n",
    "f.close()"
   ]
  },
  {
   "cell_type": "code",
   "execution_count": null,
   "metadata": {},
   "outputs": [],
   "source": []
  }
 ],
 "metadata": {
  "kernelspec": {
   "display_name": "Python 3.8.13",
   "language": "python",
   "name": "python3"
  },
  "language_info": {
   "codemirror_mode": {
    "name": "ipython",
    "version": 3
   },
   "file_extension": ".py",
   "mimetype": "text/x-python",
   "name": "python",
   "nbconvert_exporter": "python",
   "pygments_lexer": "ipython3",
   "version": "3.8.13"
  },
  "orig_nbformat": 4,
  "vscode": {
   "interpreter": {
    "hash": "14763c0aa030f96a438b6041b582aebbe0b24ad2b6010de84bcf7102be519e1b"
   }
  }
 },
 "nbformat": 4,
 "nbformat_minor": 2
}
